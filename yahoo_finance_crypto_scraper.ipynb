{
 "cells": [
  {
   "cell_type": "code",
   "execution_count": 37,
   "id": "b2055e63",
   "metadata": {},
   "outputs": [],
   "source": [
    "# Libraries\n",
    "import pandas as pd\n",
    "import requests\n",
    "import time\n",
    "import csv\n",
    "import os\n",
    "\n",
    "from bs4 import BeautifulSoup\n",
    "from pymongo import MongoClient\n",
    "from IPython.display import display\n",
    "\n",
    "from selenium.webdriver.chrome.options import Options\n",
    "from selenium.webdriver.chrome.service import Service\n",
    "from selenium import webdriver\n",
    "from selenium.webdriver.common.by import By\n",
    "from selenium.webdriver.support.ui import WebDriverWait\n",
    "from selenium.webdriver.support import expected_conditions as EC\n"
   ]
  },
  {
   "cell_type": "markdown",
   "id": "a7bf1fdc",
   "metadata": {},
   "source": [
    "## Set up the BASE URL and Test it"
   ]
  },
  {
   "cell_type": "code",
   "execution_count": 38,
   "id": "dd6c6a75",
   "metadata": {},
   "outputs": [
    {
     "name": "stdout",
     "output_type": "stream",
     "text": [
      "response.ok : True , response.status_code : 200\n"
     ]
    }
   ],
   "source": [
    "# Any variables defined in CAPITAL belong to the GLOBAL variables\n",
    "BASE_URL = 'https://finance.yahoo.com'\n",
    "\n",
    "response = requests.get(BASE_URL)\n",
    "\n",
    "if response: print(\"response.ok : {} , response.status_code : {}\".format(response.ok , response.status_code))"
   ]
  },
  {
   "cell_type": "code",
   "execution_count": 39,
   "id": "36d07d2c",
   "metadata": {},
   "outputs": [],
   "source": [
    "mongoClient = MongoClient()\n",
    "db = mongoClient.cryptocurrencies\n",
    "# db.segment.drop()"
   ]
  },
  {
   "cell_type": "markdown",
   "id": "4deec8b9",
   "metadata": {},
   "source": [
    "## Set Up the Web Driver\n",
    "* Ensure the driver is downloaded and within the path"
   ]
  },
  {
   "cell_type": "code",
   "execution_count": 40,
   "id": "85df0538",
   "metadata": {},
   "outputs": [],
   "source": [
    "\n",
    "def get_driver(url):\n",
    "    \"\"\"Return web driver\"\"\"\n",
    "    chrome_options = Options()\n",
    "    chrome_options.add_argument('--no-sandbox')\n",
    "    chrome_options.add_argument('--disable-dev-shm-usage')\n",
    "    chrome_options.add_argument('--headless')\n",
    "    chrome_options.add_argument('--start-maximized') #\n",
    "    chrome_options.add_argument('--start-fullscreen')#\n",
    "    chrome_options.add_argument('--single-process')#\n",
    "    serv = Service(os.getcwd()+'/chromedriver')\n",
    "    driver = webdriver.Chrome(options=chrome_options, service=serv)\n",
    "    driver.get(url)\n",
    "    return driver"
   ]
  },
  {
   "cell_type": "markdown",
   "id": "5616766a",
   "metadata": {},
   "source": [
    "## Data Extraction"
   ]
  },
  {
   "cell_type": "code",
   "execution_count": 41,
   "id": "0da2327f",
   "metadata": {},
   "outputs": [],
   "source": [
    "def get_table_header(driver):\n",
    "    \"\"\"Return Table columns in list form \"\"\"\n",
    "    header = driver.find_elements(By.TAG_NAME, value= 'th')\n",
    "    header_list = [item.text for index, item in enumerate(header) if index < 10]\n",
    "    return header_list\n",
    "\n",
    "def get_table_rows(driver):\n",
    "    \"\"\"Get number of rows available on the page \"\"\"\n",
    "    tablerows = len(driver.find_elements(By.XPATH, value='//*[@id=\"scr-res-table\"]/div[1]/table/tbody/tr'))\n",
    "    return tablerows  "
   ]
  },
  {
   "cell_type": "markdown",
   "id": "aa860bd8",
   "metadata": {},
   "source": [
    "## Data Cleaning"
   ]
  },
  {
   "cell_type": "code",
   "execution_count": 42,
   "id": "ad6a7583",
   "metadata": {},
   "outputs": [],
   "source": [
    "def parse_table_rows(rownum, driver, header_list):\n",
    "    \"\"\"get the data for one row at a time and return column value in the form of dictionary\"\"\"\n",
    "    row_dictionary = {}\n",
    "    #time.sleep(1/3)\n",
    "    for index , item in enumerate(header_list):\n",
    "        time.sleep(1/20)\n",
    "        column_xpath = '//*[@id=\"scr-res-table\"]/div[1]/table/tbody/tr[{}]/td[{}]'.format(rownum, index+1)\n",
    "        row_dictionary[item] = driver.find_element(By.XPATH, value=column_xpath).text\n",
    "    return row_dictionary\n",
    "\n",
    "def parse_multiple_pages(driver, total_crypto):\n",
    "    \"\"\"Loop through each row, perform Next button click at the end of page \n",
    "    return total_crypto numbers of rows \n",
    "    \"\"\"\n",
    "    table_data = []\n",
    "    page_num = 1\n",
    "    is_scraping = True\n",
    "    header_list = get_table_header(driver)\n",
    "\n",
    "    while is_scraping:\n",
    "        table_rows = get_table_rows(driver)\n",
    "        print('Found {} rows on Page : {}'.format(table_rows, page_num))\n",
    "        print('Parsing Page : {}'.format(page_num))\n",
    "        table_data += [parse_table_rows(i, driver, header_list) for i in range (1, table_rows + 1)]\n",
    "        total_count = len(table_data)\n",
    "        print('Total rows scraped : {}'.format(total_count))\n",
    "        if total_count >= total_crypto:\n",
    "            print('Done Parsing..')\n",
    "            is_scraping = False\n",
    "        else:    \n",
    "            print('Clicking Next Button')\n",
    "            element = WebDriverWait(driver, 10).until(EC.presence_of_element_located((By.XPATH, '//*[@id=\"scr-res-table\"]/div[2]/button[3]')))\n",
    "            element.click() \n",
    "            page_num += 1\n",
    "    return table_data\n"
   ]
  },
  {
   "cell_type": "markdown",
   "id": "d3fcde13",
   "metadata": {},
   "source": [
    "## Ingesting Data to Storage, i.e MongoDB"
   ]
  },
  {
   "cell_type": "code",
   "execution_count": 43,
   "id": "172cac6c",
   "metadata": {},
   "outputs": [],
   "source": [
    "def save_data_tomongo(csv_file, header):\n",
    "    # Reads data from csv and saves to mongodb\n",
    "    header = header\n",
    "    csvfile = open(csv_file, r)\n",
    "    reader = csv.DictReader(csvfile)\n",
    "\n",
    "\n",
    "    for each_item in reader:\n",
    "        row = {}\n",
    "        for field in header:\n",
    "            row[field] = each_item[field]\n",
    "\n",
    "        print(row)\n",
    "        db.segment.insert(row)"
   ]
  },
  {
   "cell_type": "markdown",
   "id": "ab717824",
   "metadata": {},
   "source": [
    "## The Factory Code"
   ]
  },
  {
   "cell_type": "code",
   "execution_count": 44,
   "id": "15b47bd8",
   "metadata": {},
   "outputs": [
    {
     "ename": "SyntaxError",
     "evalue": "'continue' not properly in loop (1671877557.py, line 10)",
     "output_type": "error",
     "traceback": [
      "\u001b[0;36m  Cell \u001b[0;32mIn [44], line 10\u001b[0;36m\u001b[0m\n\u001b[0;31m    continue\u001b[0m\n\u001b[0m    ^\u001b[0m\n\u001b[0;31mSyntaxError\u001b[0m\u001b[0;31m:\u001b[0m 'continue' not properly in loop\n"
     ]
    }
   ],
   "source": [
    "\n",
    "\n",
    "\n",
    "def scrape_yahoo_crypto(url, total_crypto, path=None):\n",
    "    \"\"\"Get the list of yahoo finance crypto-currencies and write them to CSV file \"\"\"\n",
    "    if path is None:\n",
    "        path = 'crypto-currencies.csv'\n",
    "    print('Creating driver')\n",
    "    driver = get_driver(url)\n",
    "    try:\n",
    "        table_data = parse_multiple_pages(driver, total_crypto)\n",
    "    except Exceptions:\n",
    "        continue\n",
    "    driver.close()\n",
    "    driver.quit()\n",
    "    print('Save the data to a CSV')\n",
    "    table_df = pd.DataFrame(table_data)\n",
    "    table_df.to_csv(path, index=None)\n",
    "    #This return statement is optional, we are doing this just analyze the final output \n",
    "    display(table_df.head())\n",
    "    return table_df \n",
    "\n",
    "if __name__ == \"__main__\" :\n",
    "    \n",
    "    YAHOO_FINANCE_URL = BASE_URL+'/crypto'\n",
    "    TOTAL_CRYPTO = 50\n",
    "    crypto_df = scrape_yahoo_crypto(YAHOO_FINANCE_URL, TOTAL_CRYPTO,'crypto-currencies.csv')\n",
    "\n",
    "print(\"Processing Done\")"
   ]
  },
  {
   "cell_type": "code",
   "execution_count": null,
   "id": "2f19504c",
   "metadata": {},
   "outputs": [],
   "source": []
  }
 ],
 "metadata": {
  "kernelspec": {
   "display_name": "Python 3 (ipykernel)",
   "language": "python",
   "name": "python3"
  },
  "language_info": {
   "codemirror_mode": {
    "name": "ipython",
    "version": 3
   },
   "file_extension": ".py",
   "mimetype": "text/x-python",
   "name": "python",
   "nbconvert_exporter": "python",
   "pygments_lexer": "ipython3",
   "version": "3.10.8"
  }
 },
 "nbformat": 4,
 "nbformat_minor": 5
}
