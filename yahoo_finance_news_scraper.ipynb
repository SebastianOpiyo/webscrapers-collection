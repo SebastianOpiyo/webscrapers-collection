{
 "cells": [
  {
   "cell_type": "markdown",
   "id": "39ba400c",
   "metadata": {
    "id": "39ba400c"
   },
   "source": [
    "## The following modules will be used:\n",
    "* BeautifulSoup - used to crawle the website\n",
    "* pandas used to arrange data in tables"
   ]
  },
  {
   "cell_type": "code",
   "execution_count": 118,
   "id": "a45dd299",
   "metadata": {
    "id": "a45dd299"
   },
   "outputs": [],
   "source": [
    "# Installation of the necessary libraries\n",
    "!pip install requests --quiet\n",
    "!pip install beautifulsoup4 --quiet\n",
    "!pip install pymongo --quiet\n",
    "!pip install urllib3 --quiet"
   ]
  },
  {
   "cell_type": "code",
   "execution_count": 119,
   "id": "d07519a1",
   "metadata": {
    "id": "d07519a1"
   },
   "outputs": [],
   "source": [
    "import csv\n",
    "import requests\n",
    "import pandas as pd\n",
    "import urllib\n",
    "import time\n",
    "\n",
    "from bs4 import BeautifulSoup\n",
    "from pymongo import MongoClient\n",
    "from IPython.display import display"
   ]
  },
  {
   "cell_type": "code",
   "execution_count": 120,
   "id": "3528ad45",
   "metadata": {
    "colab": {
     "base_uri": "https://localhost:8080/"
    },
    "id": "3528ad45",
    "outputId": "26228f49-5468-4976-c72c-1d01cdae4948"
   },
   "outputs": [
    {
     "name": "stderr",
     "output_type": "stream",
     "text": [
      "sudo: a terminal is required to read the password; either use the -S option to read from standard input or configure an askpass helper\n",
      "sudo: a password is required\n",
      "sudo: a terminal is required to read the password; either use the -S option to read from standard input or configure an askpass helper\n",
      "sudo: a password is required\n",
      "Failed to start mongodb.service: Unit mongodb.service not found.\n"
     ]
    },
    {
     "ename": "CalledProcessError",
     "evalue": "Command 'b'sudo apt-get update\\nsudo apt-get install -y mongodb-org > log\\nservice mongodb start\\n'' returned non-zero exit status 5.",
     "output_type": "error",
     "traceback": [
      "\u001b[0;31m---------------------------------------------------------------------------\u001b[0m",
      "\u001b[0;31mCalledProcessError\u001b[0m                        Traceback (most recent call last)",
      "Cell \u001b[0;32mIn [120], line 1\u001b[0m\n\u001b[0;32m----> 1\u001b[0m \u001b[43mget_ipython\u001b[49m\u001b[43m(\u001b[49m\u001b[43m)\u001b[49m\u001b[38;5;241;43m.\u001b[39;49m\u001b[43mrun_cell_magic\u001b[49m\u001b[43m(\u001b[49m\u001b[38;5;124;43m'\u001b[39;49m\u001b[38;5;124;43mbash\u001b[39;49m\u001b[38;5;124;43m'\u001b[39;49m\u001b[43m,\u001b[49m\u001b[43m \u001b[49m\u001b[38;5;124;43m'\u001b[39;49m\u001b[38;5;124;43m'\u001b[39;49m\u001b[43m,\u001b[49m\u001b[43m \u001b[49m\u001b[38;5;124;43m'\u001b[39;49m\u001b[38;5;124;43msudo apt-get update\u001b[39;49m\u001b[38;5;130;43;01m\\n\u001b[39;49;00m\u001b[38;5;124;43msudo apt-get install -y mongodb-org > log\u001b[39;49m\u001b[38;5;130;43;01m\\n\u001b[39;49;00m\u001b[38;5;124;43mservice mongodb start\u001b[39;49m\u001b[38;5;130;43;01m\\n\u001b[39;49;00m\u001b[38;5;124;43m'\u001b[39;49m\u001b[43m)\u001b[49m\n",
      "File \u001b[0;32m/usr/lib/python3/dist-packages/IPython/core/interactiveshell.py:2362\u001b[0m, in \u001b[0;36mInteractiveShell.run_cell_magic\u001b[0;34m(self, magic_name, line, cell)\u001b[0m\n\u001b[1;32m   2360\u001b[0m \u001b[38;5;28;01mwith\u001b[39;00m \u001b[38;5;28mself\u001b[39m\u001b[38;5;241m.\u001b[39mbuiltin_trap:\n\u001b[1;32m   2361\u001b[0m     args \u001b[38;5;241m=\u001b[39m (magic_arg_s, cell)\n\u001b[0;32m-> 2362\u001b[0m     result \u001b[38;5;241m=\u001b[39m \u001b[43mfn\u001b[49m\u001b[43m(\u001b[49m\u001b[38;5;241;43m*\u001b[39;49m\u001b[43margs\u001b[49m\u001b[43m,\u001b[49m\u001b[43m \u001b[49m\u001b[38;5;241;43m*\u001b[39;49m\u001b[38;5;241;43m*\u001b[39;49m\u001b[43mkwargs\u001b[49m\u001b[43m)\u001b[49m\n\u001b[1;32m   2363\u001b[0m \u001b[38;5;28;01mreturn\u001b[39;00m result\n",
      "File \u001b[0;32m/usr/lib/python3/dist-packages/IPython/core/magics/script.py:153\u001b[0m, in \u001b[0;36mScriptMagics._make_script_magic.<locals>.named_script_magic\u001b[0;34m(line, cell)\u001b[0m\n\u001b[1;32m    151\u001b[0m \u001b[38;5;28;01melse\u001b[39;00m:\n\u001b[1;32m    152\u001b[0m     line \u001b[38;5;241m=\u001b[39m script\n\u001b[0;32m--> 153\u001b[0m \u001b[38;5;28;01mreturn\u001b[39;00m \u001b[38;5;28;43mself\u001b[39;49m\u001b[38;5;241;43m.\u001b[39;49m\u001b[43mshebang\u001b[49m\u001b[43m(\u001b[49m\u001b[43mline\u001b[49m\u001b[43m,\u001b[49m\u001b[43m \u001b[49m\u001b[43mcell\u001b[49m\u001b[43m)\u001b[49m\n",
      "File \u001b[0;32m/usr/lib/python3/dist-packages/IPython/core/magics/script.py:305\u001b[0m, in \u001b[0;36mScriptMagics.shebang\u001b[0;34m(self, line, cell)\u001b[0m\n\u001b[1;32m    300\u001b[0m \u001b[38;5;28;01mif\u001b[39;00m args\u001b[38;5;241m.\u001b[39mraise_error \u001b[38;5;129;01mand\u001b[39;00m p\u001b[38;5;241m.\u001b[39mreturncode \u001b[38;5;241m!=\u001b[39m \u001b[38;5;241m0\u001b[39m:\n\u001b[1;32m    301\u001b[0m     \u001b[38;5;66;03m# If we get here and p.returncode is still None, we must have\u001b[39;00m\n\u001b[1;32m    302\u001b[0m     \u001b[38;5;66;03m# killed it but not yet seen its return code. We don't wait for it,\u001b[39;00m\n\u001b[1;32m    303\u001b[0m     \u001b[38;5;66;03m# in case it's stuck in uninterruptible sleep. -9 = SIGKILL\u001b[39;00m\n\u001b[1;32m    304\u001b[0m     rc \u001b[38;5;241m=\u001b[39m p\u001b[38;5;241m.\u001b[39mreturncode \u001b[38;5;129;01mor\u001b[39;00m \u001b[38;5;241m-\u001b[39m\u001b[38;5;241m9\u001b[39m\n\u001b[0;32m--> 305\u001b[0m     \u001b[38;5;28;01mraise\u001b[39;00m CalledProcessError(rc, cell)\n",
      "\u001b[0;31mCalledProcessError\u001b[0m: Command 'b'sudo apt-get update\\nsudo apt-get install -y mongodb-org > log\\nservice mongodb start\\n'' returned non-zero exit status 5."
     ]
    }
   ],
   "source": [
    "%%bash\n",
    "sudo apt-get update\n",
    "sudo apt-get install -y mongodb-org > log\n",
    "service mongodb start"
   ]
  },
  {
   "cell_type": "code",
   "execution_count": null,
   "id": "aMHa0oH5BfSi",
   "metadata": {
    "id": "aMHa0oH5BfSi"
   },
   "outputs": [],
   "source": [
    "# Wait for the instance to start\n",
    "time.sleep(5)"
   ]
  },
  {
   "cell_type": "code",
   "execution_count": null,
   "id": "Y1bqIRfVBquf",
   "metadata": {
    "colab": {
     "base_uri": "https://localhost:8080/"
    },
    "id": "Y1bqIRfVBquf",
    "outputId": "13a7f4b3-1b37-47c9-f4aa-de560a90df80"
   },
   "outputs": [],
   "source": [
    "%%bash\n",
    "ps -ef | grep mongo"
   ]
  },
  {
   "cell_type": "markdown",
   "id": "0fe75dfc",
   "metadata": {
    "id": "0fe75dfc"
   },
   "source": [
    "## Instantiate mongodb"
   ]
  },
  {
   "cell_type": "code",
   "execution_count": 30,
   "id": "8a866919",
   "metadata": {
    "colab": {
     "base_uri": "https://localhost:8080/"
    },
    "id": "8a866919",
    "outputId": "9174c2d1-3fbf-41e8-b8d2-74ddd2da659e"
   },
   "outputs": [
    {
     "data": {
      "text/plain": [
       "['admin', 'config', 'local']"
      ]
     },
     "execution_count": 30,
     "metadata": {},
     "output_type": "execute_result"
    }
   ],
   "source": [
    "mongoClient = MongoClient()\n",
    "# Get the atlas mongodb connection string\n",
    "# mongo_uri = \"mongodb://vineethr238:\" + urllib.parse.quote(\"vini8686\", safe=\"\") + \"@cluster0.yqicrpo.mongodb.net/?retryWrites=true&w=majority\"\n",
    "# client = MongoClient(mongo_uri)\n",
    "client = MongoClient()\n",
    "client.list_database_names()\n",
    "# db = client.stocknews\n",
    "# store = db.stocks\n",
    "\n",
    "# db = client.stocknews.stocks"
   ]
  },
  {
   "cell_type": "code",
   "execution_count": 32,
   "id": "wPYA-PHBCu9h",
   "metadata": {
    "id": "wPYA-PHBCu9h"
   },
   "outputs": [],
   "source": [
    "DATABASE_URI = \"mongodb://localhost:27017\"\n",
    "DATABASE = \"stocknews\"\n",
    "NEWS_COLLECTION = \"stocks\"\n",
    "db = client[DATABASE]\n",
    "\n",
    "# Check existence of collection\n",
    "if \"stocks\" not in db.list_collection_names():\n",
    "  db.create_collection(NEWS_COLLECTION)"
   ]
  },
  {
   "cell_type": "markdown",
   "id": "67d63a6d",
   "metadata": {
    "id": "67d63a6d"
   },
   "source": [
    "## Test the Base Url"
   ]
  },
  {
   "cell_type": "code",
   "execution_count": 33,
   "id": "623d9859",
   "metadata": {
    "id": "623d9859"
   },
   "outputs": [],
   "source": [
    "BASE_URL = 'https://finance.yahoo.com' "
   ]
  },
  {
   "cell_type": "markdown",
   "id": "585439f4",
   "metadata": {
    "id": "585439f4"
   },
   "source": [
    "## Utility Methods"
   ]
  },
  {
   "cell_type": "code",
   "execution_count": 44,
   "id": "da9c1a55",
   "metadata": {
    "id": "da9c1a55"
   },
   "outputs": [],
   "source": [
    "def get_page(url):\n",
    "    \"\"\"Download a webpage and return a beautiful soup doc\"\"\"\n",
    "    response = requests.get(url)\n",
    "    if not response.ok:\n",
    "        print('Status code:', response.status_code)\n",
    "        raise Exception('Failed to load page {}'.format(url))\n",
    "    doc = BeautifulSoup(response.text, 'html.parser')\n",
    "    return doc\n",
    "\n",
    "\n",
    "def get_news_tags(doc):\n",
    "    \"\"\"Get the list of tags containing news information\"\"\"\n",
    "    news_class = \"Ov(h) Pend(44px) Pstart(25px)\" ## class name of div tag \n",
    "    news_list  = doc.find_all('div', {'class': news_class})\n",
    "    return news_list\n",
    "\n",
    "\n",
    "def parse_news(news_tag):\n",
    "    \"\"\"Get the news data point and return dictionary\"\"\"\n",
    "    news_source = news_tag.find('div').text #source\n",
    "    news_headline = news_tag.find('a').text #heading\n",
    "    news_url = news_tag.find('a')['href'] #link\n",
    "    news_content = news_tag.find('p').text #content\n",
    "    news_image = news_tag.findParent().find('img')['src'] #thumb image\n",
    "    return { 'source' : news_source,\n",
    "            'headline' : news_headline,\n",
    "            'url' : BASE_URL + news_url,\n",
    "            'content' : news_content,\n",
    "            'image' : news_image\n",
    "           }\n",
    "\n",
    "def save_data_to_mongo(dataframe):\n",
    "    \"\"\"Takes a dataframe, converts it to dictionary and saves to mongo db\"\"\"\n",
    "    #     data = dataframe.reset_index(drop=True)\n",
    "    #     data_dictionary = data.to_dict(data)\n",
    "    db.stocks.insert_many(dataframe.to_dict(orient=\"records\"))"
   ]
  },
  {
   "cell_type": "code",
   "execution_count": 45,
   "id": "78fa295f",
   "metadata": {
    "colab": {
     "base_uri": "https://localhost:8080/",
     "height": 413
    },
    "id": "78fa295f",
    "outputId": "da27242d-5b5e-413d-b129-b3b643fade08"
   },
   "outputs": [
    {
     "name": "stdout",
     "output_type": "stream",
     "text": [
      "Requesting html page\n",
      "Extracting news tags\n",
      "Parsing news tags\n",
      "Save the data to a CSV\n"
     ]
    },
    {
     "data": {
      "text/html": [
       "\n",
       "  <div id=\"df-d08b6e2b-b5c1-4248-919a-e5a9f6135b77\">\n",
       "    <div class=\"colab-df-container\">\n",
       "      <div>\n",
       "<style scoped>\n",
       "    .dataframe tbody tr th:only-of-type {\n",
       "        vertical-align: middle;\n",
       "    }\n",
       "\n",
       "    .dataframe tbody tr th {\n",
       "        vertical-align: top;\n",
       "    }\n",
       "\n",
       "    .dataframe thead th {\n",
       "        text-align: right;\n",
       "    }\n",
       "</style>\n",
       "<table border=\"1\" class=\"dataframe\">\n",
       "  <thead>\n",
       "    <tr style=\"text-align: right;\">\n",
       "      <th></th>\n",
       "      <th>source</th>\n",
       "      <th>headline</th>\n",
       "      <th>url</th>\n",
       "      <th>content</th>\n",
       "      <th>image</th>\n",
       "    </tr>\n",
       "  </thead>\n",
       "  <tbody>\n",
       "    <tr>\n",
       "      <th>0</th>\n",
       "      <td>Bloomberg</td>\n",
       "      <td>Asia Stocks Set to Open Lower on Hawkish Polic...</td>\n",
       "      <td>https://finance.yahoo.com/news/asia-stocks-set...</td>\n",
       "      <td>(Bloomberg) -- Asian stocks are poised to drop...</td>\n",
       "      <td>https://s.yimg.com/uu/api/res/1.2/tyrF3PUrZLoT...</td>\n",
       "    </tr>\n",
       "    <tr>\n",
       "      <th>1</th>\n",
       "      <td>Bloomberg</td>\n",
       "      <td>California Slashes Rooftop Solar Incentives in...</td>\n",
       "      <td>https://finance.yahoo.com/news/california-risk...</td>\n",
       "      <td>(Bloomberg) -- California will sharply reduce ...</td>\n",
       "      <td>https://s.yimg.com/uu/api/res/1.2/2HrpW53WntW7...</td>\n",
       "    </tr>\n",
       "    <tr>\n",
       "      <th>2</th>\n",
       "      <td>Reuters</td>\n",
       "      <td>Jana Partners tells Freshpet it plans to run f...</td>\n",
       "      <td>https://finance.yahoo.com/news/jana-partners-t...</td>\n",
       "      <td>The activist investment firm pushing Freshpet ...</td>\n",
       "      <td>https://s.yimg.com/uu/api/res/1.2/xLMB_HP1kGIc...</td>\n",
       "    </tr>\n",
       "    <tr>\n",
       "      <th>3</th>\n",
       "      <td>Reuters</td>\n",
       "      <td>Macau casinos' new contracts to sharpen focus ...</td>\n",
       "      <td>https://finance.yahoo.com/news/macau-casinos-c...</td>\n",
       "      <td>Macau's six incumbent casino firms are set to ...</td>\n",
       "      <td>https://s.yimg.com/uu/api/res/1.2/UqrJRRfqlwpZ...</td>\n",
       "    </tr>\n",
       "    <tr>\n",
       "      <th>4</th>\n",
       "      <td>Reuters</td>\n",
       "      <td>Macron wants European response to U.S. IRA to ...</td>\n",
       "      <td>https://finance.yahoo.com/news/macron-wants-eu...</td>\n",
       "      <td>French President Emmanuel Macron said on Thurs...</td>\n",
       "      <td>https://s.yimg.com/uu/api/res/1.2/Hy0uKJkwSftO...</td>\n",
       "    </tr>\n",
       "  </tbody>\n",
       "</table>\n",
       "</div>\n",
       "      <button class=\"colab-df-convert\" onclick=\"convertToInteractive('df-d08b6e2b-b5c1-4248-919a-e5a9f6135b77')\"\n",
       "              title=\"Convert this dataframe to an interactive table.\"\n",
       "              style=\"display:none;\">\n",
       "        \n",
       "  <svg xmlns=\"http://www.w3.org/2000/svg\" height=\"24px\"viewBox=\"0 0 24 24\"\n",
       "       width=\"24px\">\n",
       "    <path d=\"M0 0h24v24H0V0z\" fill=\"none\"/>\n",
       "    <path d=\"M18.56 5.44l.94 2.06.94-2.06 2.06-.94-2.06-.94-.94-2.06-.94 2.06-2.06.94zm-11 1L8.5 8.5l.94-2.06 2.06-.94-2.06-.94L8.5 2.5l-.94 2.06-2.06.94zm10 10l.94 2.06.94-2.06 2.06-.94-2.06-.94-.94-2.06-.94 2.06-2.06.94z\"/><path d=\"M17.41 7.96l-1.37-1.37c-.4-.4-.92-.59-1.43-.59-.52 0-1.04.2-1.43.59L10.3 9.45l-7.72 7.72c-.78.78-.78 2.05 0 2.83L4 21.41c.39.39.9.59 1.41.59.51 0 1.02-.2 1.41-.59l7.78-7.78 2.81-2.81c.8-.78.8-2.07 0-2.86zM5.41 20L4 18.59l7.72-7.72 1.47 1.35L5.41 20z\"/>\n",
       "  </svg>\n",
       "      </button>\n",
       "      \n",
       "  <style>\n",
       "    .colab-df-container {\n",
       "      display:flex;\n",
       "      flex-wrap:wrap;\n",
       "      gap: 12px;\n",
       "    }\n",
       "\n",
       "    .colab-df-convert {\n",
       "      background-color: #E8F0FE;\n",
       "      border: none;\n",
       "      border-radius: 50%;\n",
       "      cursor: pointer;\n",
       "      display: none;\n",
       "      fill: #1967D2;\n",
       "      height: 32px;\n",
       "      padding: 0 0 0 0;\n",
       "      width: 32px;\n",
       "    }\n",
       "\n",
       "    .colab-df-convert:hover {\n",
       "      background-color: #E2EBFA;\n",
       "      box-shadow: 0px 1px 2px rgba(60, 64, 67, 0.3), 0px 1px 3px 1px rgba(60, 64, 67, 0.15);\n",
       "      fill: #174EA6;\n",
       "    }\n",
       "\n",
       "    [theme=dark] .colab-df-convert {\n",
       "      background-color: #3B4455;\n",
       "      fill: #D2E3FC;\n",
       "    }\n",
       "\n",
       "    [theme=dark] .colab-df-convert:hover {\n",
       "      background-color: #434B5C;\n",
       "      box-shadow: 0px 1px 3px 1px rgba(0, 0, 0, 0.15);\n",
       "      filter: drop-shadow(0px 1px 2px rgba(0, 0, 0, 0.3));\n",
       "      fill: #FFFFFF;\n",
       "    }\n",
       "  </style>\n",
       "\n",
       "      <script>\n",
       "        const buttonEl =\n",
       "          document.querySelector('#df-d08b6e2b-b5c1-4248-919a-e5a9f6135b77 button.colab-df-convert');\n",
       "        buttonEl.style.display =\n",
       "          google.colab.kernel.accessAllowed ? 'block' : 'none';\n",
       "\n",
       "        async function convertToInteractive(key) {\n",
       "          const element = document.querySelector('#df-d08b6e2b-b5c1-4248-919a-e5a9f6135b77');\n",
       "          const dataTable =\n",
       "            await google.colab.kernel.invokeFunction('convertToInteractive',\n",
       "                                                     [key], {});\n",
       "          if (!dataTable) return;\n",
       "\n",
       "          const docLinkHtml = 'Like what you see? Visit the ' +\n",
       "            '<a target=\"_blank\" href=https://colab.research.google.com/notebooks/data_table.ipynb>data table notebook</a>'\n",
       "            + ' to learn more about interactive tables.';\n",
       "          element.innerHTML = '';\n",
       "          dataTable['output_type'] = 'display_data';\n",
       "          await google.colab.output.renderOutput(dataTable, element);\n",
       "          const docLink = document.createElement('div');\n",
       "          docLink.innerHTML = docLinkHtml;\n",
       "          element.appendChild(docLink);\n",
       "        }\n",
       "      </script>\n",
       "    </div>\n",
       "  </div>\n",
       "  "
      ],
      "text/plain": [
       "      source                                           headline  \\\n",
       "0  Bloomberg  Asia Stocks Set to Open Lower on Hawkish Polic...   \n",
       "1  Bloomberg  California Slashes Rooftop Solar Incentives in...   \n",
       "2    Reuters  Jana Partners tells Freshpet it plans to run f...   \n",
       "3    Reuters  Macau casinos' new contracts to sharpen focus ...   \n",
       "4    Reuters  Macron wants European response to U.S. IRA to ...   \n",
       "\n",
       "                                                 url  \\\n",
       "0  https://finance.yahoo.com/news/asia-stocks-set...   \n",
       "1  https://finance.yahoo.com/news/california-risk...   \n",
       "2  https://finance.yahoo.com/news/jana-partners-t...   \n",
       "3  https://finance.yahoo.com/news/macau-casinos-c...   \n",
       "4  https://finance.yahoo.com/news/macron-wants-eu...   \n",
       "\n",
       "                                             content  \\\n",
       "0  (Bloomberg) -- Asian stocks are poised to drop...   \n",
       "1  (Bloomberg) -- California will sharply reduce ...   \n",
       "2  The activist investment firm pushing Freshpet ...   \n",
       "3  Macau's six incumbent casino firms are set to ...   \n",
       "4  French President Emmanuel Macron said on Thurs...   \n",
       "\n",
       "                                               image  \n",
       "0  https://s.yimg.com/uu/api/res/1.2/tyrF3PUrZLoT...  \n",
       "1  https://s.yimg.com/uu/api/res/1.2/2HrpW53WntW7...  \n",
       "2  https://s.yimg.com/uu/api/res/1.2/xLMB_HP1kGIc...  \n",
       "3  https://s.yimg.com/uu/api/res/1.2/UqrJRRfqlwpZ...  \n",
       "4  https://s.yimg.com/uu/api/res/1.2/Hy0uKJkwSftO...  "
      ]
     },
     "metadata": {},
     "output_type": "display_data"
    },
    {
     "name": "stdout",
     "output_type": "stream",
     "text": [
      "Successful pipeline execution\n",
      "Processing Done\n"
     ]
    }
   ],
   "source": [
    "\n",
    "\n",
    "def scrape_yahoo_news(url, path=None):\n",
    "    \"\"\"Get the yahoo finance market news and write them to CSV file \"\"\"\n",
    "    if path is None:\n",
    "        path = 'stock-market-news.csv'\n",
    "    print('Requesting html page')\n",
    "    doc = get_page(url)\n",
    "    print('Extracting news tags')\n",
    "    news_list = get_news_tags(doc)\n",
    "    print('Parsing news tags')\n",
    "    news_data = [parse_news(news_tag) for news_tag in news_list]\n",
    "    print('Save the data to a CSV')\n",
    "    news_df = pd.DataFrame(news_data)\n",
    "    news_df.to_csv(path, index=None)\n",
    "    display(news_df.head())\n",
    "    save_data_to_mongo(news_df)\n",
    "    print(\"Successful pipeline execution\")\n",
    "\n",
    "\n",
    "if __name__ == \"__main__\" :\n",
    "    \n",
    "    YAHOO_NEWS_URL = BASE_URL+'/news/'\n",
    "    news_df = scrape_yahoo_news(YAHOO_NEWS_URL)\n",
    "\n",
    "print(\"Processing Done\")"
   ]
  },
  {
   "cell_type": "code",
   "execution_count": 48,
   "id": "ce3185ed",
   "metadata": {
    "colab": {
     "base_uri": "https://localhost:8080/"
    },
    "id": "ce3185ed",
    "outputId": "7f6c6d0e-b608-45ff-8c33-c844c6e1bcec"
   },
   "outputs": [
    {
     "data": {
      "text/plain": [
       "Collection(Database(MongoClient(host=['localhost:27017'], document_class=dict, tz_aware=False, connect=True), 'stocknews'), 'stocks.count')"
      ]
     },
     "execution_count": 48,
     "metadata": {},
     "output_type": "execute_result"
    }
   ],
   "source": [
    "# confirm data storage\n",
    "db.stocks.count"
   ]
  },
  {
   "cell_type": "code",
   "execution_count": 50,
   "id": "p4TewE-HJZVG",
   "metadata": {
    "id": "p4TewE-HJZVG"
   },
   "outputs": [],
   "source": [
    "for item in db.collection.find():\n",
    "  print(item)"
   ]
  }
 ],
 "metadata": {
  "colab": {
   "provenance": []
  },
  "kernelspec": {
   "display_name": "Python 3 (ipykernel)",
   "language": "python",
   "name": "python3"
  },
  "language_info": {
   "codemirror_mode": {
    "name": "ipython",
    "version": 3
   },
   "file_extension": ".py",
   "mimetype": "text/x-python",
   "name": "python",
   "nbconvert_exporter": "python",
   "pygments_lexer": "ipython3",
   "version": "3.10.8"
  }
 },
 "nbformat": 4,
 "nbformat_minor": 5
}
